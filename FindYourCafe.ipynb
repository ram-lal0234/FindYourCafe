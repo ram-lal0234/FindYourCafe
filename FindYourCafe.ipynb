{
 "cells": [
  {
   "cell_type": "code",
   "execution_count": 1,
   "id": "c8f83399",
   "metadata": {},
   "outputs": [],
   "source": [
    "import numpy as np\n",
    "import pandas as pd"
   ]
  },
  {
   "cell_type": "code",
   "execution_count": 3,
   "id": "d2261199",
   "metadata": {},
   "outputs": [],
   "source": [
    "food=pd.read_csv(\"Food_Data_core.csv\")\n"
   ]
  },
  {
   "cell_type": "code",
   "execution_count": 4,
   "id": "9d881d27",
   "metadata": {},
   "outputs": [
    {
     "data": {
      "text/html": [
       "<div>\n",
       "<style scoped>\n",
       "    .dataframe tbody tr th:only-of-type {\n",
       "        vertical-align: middle;\n",
       "    }\n",
       "\n",
       "    .dataframe tbody tr th {\n",
       "        vertical-align: top;\n",
       "    }\n",
       "\n",
       "    .dataframe thead th {\n",
       "        text-align: right;\n",
       "    }\n",
       "</style>\n",
       "<table border=\"1\" class=\"dataframe\">\n",
       "  <thead>\n",
       "    <tr style=\"text-align: right;\">\n",
       "      <th></th>\n",
       "      <th>Restaurant Name</th>\n",
       "      <th>Cuisine Type</th>\n",
       "      <th>Location</th>\n",
       "      <th>Best Indian Food Item</th>\n",
       "      <th>Link</th>\n",
       "    </tr>\n",
       "  </thead>\n",
       "  <tbody>\n",
       "    <tr>\n",
       "      <th>0</th>\n",
       "      <td>Rinkuj Fast Food and Restaurant</td>\n",
       "      <td>Fast Food</td>\n",
       "      <td>Bheruji Circle</td>\n",
       "      <td>Rolls</td>\n",
       "      <td>https://goo.gl/maps/aRtnREahDK5AfHJe8</td>\n",
       "    </tr>\n",
       "    <tr>\n",
       "      <th>1</th>\n",
       "      <td>AFC American Fried Chicken</td>\n",
       "      <td>Indian</td>\n",
       "      <td>sardarpura</td>\n",
       "      <td>Chicken</td>\n",
       "      <td>https://goo.gl/maps/UjW7yvaSGHVn5bZs7</td>\n",
       "    </tr>\n",
       "    <tr>\n",
       "      <th>2</th>\n",
       "      <td>Agarwal Chat Corner</td>\n",
       "      <td>Indian</td>\n",
       "      <td>Sardarpura</td>\n",
       "      <td>Aloo Tikki</td>\n",
       "      <td>https://goo.gl/maps/2ks4Mswnu4RZafrv7</td>\n",
       "    </tr>\n",
       "    <tr>\n",
       "      <th>3</th>\n",
       "      <td>Agarwal Chat Corner</td>\n",
       "      <td>Indian</td>\n",
       "      <td>Sardarpura</td>\n",
       "      <td>Chat</td>\n",
       "      <td>https://goo.gl/maps/2ks4Mswnu4RZafrv7</td>\n",
       "    </tr>\n",
       "    <tr>\n",
       "      <th>4</th>\n",
       "      <td>Agarwal Kadi kachori</td>\n",
       "      <td>Indian</td>\n",
       "      <td>Sardarpura</td>\n",
       "      <td>Kachori</td>\n",
       "      <td>https://goo.gl/maps/jGCJcHTEKyqAgeWQA</td>\n",
       "    </tr>\n",
       "    <tr>\n",
       "      <th>5</th>\n",
       "      <td>Agarwal Kadi kachori</td>\n",
       "      <td>Indian</td>\n",
       "      <td>Sardarpura</td>\n",
       "      <td>Samosa</td>\n",
       "      <td>https://goo.gl/maps/LexeAEFaaBEipffG9</td>\n",
       "    </tr>\n",
       "    <tr>\n",
       "      <th>6</th>\n",
       "      <td>Agarwal Kadi kachori</td>\n",
       "      <td>Indian</td>\n",
       "      <td>Sardarpura</td>\n",
       "      <td>Mirchi Bada</td>\n",
       "      <td>https://goo.gl/maps/jCcLhGxXsXaVQ4MF8</td>\n",
       "    </tr>\n",
       "    <tr>\n",
       "      <th>7</th>\n",
       "      <td>Agra Chat Wale</td>\n",
       "      <td>Indian</td>\n",
       "      <td>Jalori Gate</td>\n",
       "      <td>Aloo Tikki</td>\n",
       "      <td>https://goo.gl/maps/jCcLhGxXsXaVQ4MF8</td>\n",
       "    </tr>\n",
       "    <tr>\n",
       "      <th>8</th>\n",
       "      <td>Agra Chat Wale</td>\n",
       "      <td>Indian</td>\n",
       "      <td>Jalori Gate</td>\n",
       "      <td>Chat</td>\n",
       "      <td>https://goo.gl/maps/qSr7UTR7Hpks6P5U8</td>\n",
       "    </tr>\n",
       "    <tr>\n",
       "      <th>9</th>\n",
       "      <td>Agra Chat Wale</td>\n",
       "      <td>Fast Food</td>\n",
       "      <td>Jalori Gate</td>\n",
       "      <td>Pani Puri</td>\n",
       "      <td>https://goo.gl/maps/qSr7UTR7Hpks6P5U8</td>\n",
       "    </tr>\n",
       "  </tbody>\n",
       "</table>\n",
       "</div>"
      ],
      "text/plain": [
       "                   Restaurant Name Cuisine Type        Location  \\\n",
       "0  Rinkuj Fast Food and Restaurant    Fast Food  Bheruji Circle   \n",
       "1       AFC American Fried Chicken       Indian      sardarpura   \n",
       "2              Agarwal Chat Corner       Indian      Sardarpura   \n",
       "3              Agarwal Chat Corner       Indian      Sardarpura   \n",
       "4             Agarwal Kadi kachori       Indian      Sardarpura   \n",
       "5             Agarwal Kadi kachori       Indian      Sardarpura   \n",
       "6             Agarwal Kadi kachori       Indian      Sardarpura   \n",
       "7                   Agra Chat Wale       Indian     Jalori Gate   \n",
       "8                   Agra Chat Wale       Indian     Jalori Gate   \n",
       "9                   Agra Chat Wale    Fast Food     Jalori Gate   \n",
       "\n",
       "  Best Indian Food Item                                   Link  \n",
       "0                 Rolls  https://goo.gl/maps/aRtnREahDK5AfHJe8  \n",
       "1               Chicken  https://goo.gl/maps/UjW7yvaSGHVn5bZs7  \n",
       "2            Aloo Tikki  https://goo.gl/maps/2ks4Mswnu4RZafrv7  \n",
       "3                  Chat  https://goo.gl/maps/2ks4Mswnu4RZafrv7  \n",
       "4               Kachori  https://goo.gl/maps/jGCJcHTEKyqAgeWQA  \n",
       "5                Samosa  https://goo.gl/maps/LexeAEFaaBEipffG9  \n",
       "6           Mirchi Bada  https://goo.gl/maps/jCcLhGxXsXaVQ4MF8  \n",
       "7            Aloo Tikki  https://goo.gl/maps/jCcLhGxXsXaVQ4MF8  \n",
       "8                  Chat  https://goo.gl/maps/qSr7UTR7Hpks6P5U8  \n",
       "9             Pani Puri  https://goo.gl/maps/qSr7UTR7Hpks6P5U8  "
      ]
     },
     "execution_count": 4,
     "metadata": {},
     "output_type": "execute_result"
    }
   ],
   "source": [
    "food.head(10)"
   ]
  },
  {
   "cell_type": "code",
   "execution_count": 7,
   "id": "6d0123c9",
   "metadata": {},
   "outputs": [
    {
     "data": {
      "text/plain": [
       "(209, 5)"
      ]
     },
     "execution_count": 7,
     "metadata": {},
     "output_type": "execute_result"
    }
   ],
   "source": [
    "food.shape"
   ]
  },
  {
   "cell_type": "code",
   "execution_count": 8,
   "id": "5e6501f0",
   "metadata": {},
   "outputs": [
    {
     "data": {
      "text/plain": [
       "Restaurant Name          0\n",
       "Cuisine Type             0\n",
       "Location                 0\n",
       "Best Indian Food Item    0\n",
       "Link                     0\n",
       "dtype: int64"
      ]
     },
     "execution_count": 8,
     "metadata": {},
     "output_type": "execute_result"
    }
   ],
   "source": [
    "food.isnull().sum()"
   ]
  },
  {
   "cell_type": "code",
   "execution_count": 6,
   "id": "a799079e",
   "metadata": {},
   "outputs": [
    {
     "data": {
      "text/plain": [
       "0"
      ]
     },
     "execution_count": 6,
     "metadata": {},
     "output_type": "execute_result"
    }
   ],
   "source": [
    "food.duplicated().sum()"
   ]
  },
  {
   "cell_type": "code",
   "execution_count": 14,
   "id": "c8a1d654",
   "metadata": {},
   "outputs": [],
   "source": [
    "from sklearn.feature_extraction.text import CountVectorizer"
   ]
  },
  {
   "cell_type": "code",
   "execution_count": 15,
   "id": "77d75d17",
   "metadata": {},
   "outputs": [],
   "source": [
    "cv=CountVectorizer()"
   ]
  },
  {
   "cell_type": "code",
   "execution_count": 16,
   "id": "30e524aa",
   "metadata": {},
   "outputs": [],
   "source": [
    "vector=cv.fit_transform(food['Best Indian Food Item']).toarray()"
   ]
  },
  {
   "cell_type": "code",
   "execution_count": 17,
   "id": "8a8b2e73",
   "metadata": {},
   "outputs": [
    {
     "data": {
      "text/plain": [
       "array([[0, 0, 0, ..., 0, 0, 0],\n",
       "       [0, 0, 0, ..., 0, 0, 0],\n",
       "       [1, 0, 0, ..., 1, 0, 0],\n",
       "       ...,\n",
       "       [0, 0, 0, ..., 0, 0, 0],\n",
       "       [0, 0, 0, ..., 0, 0, 0],\n",
       "       [0, 0, 0, ..., 0, 0, 0]], dtype=int64)"
      ]
     },
     "execution_count": 17,
     "metadata": {},
     "output_type": "execute_result"
    }
   ],
   "source": [
    "vector"
   ]
  },
  {
   "cell_type": "code",
   "execution_count": 18,
   "id": "0568d8b8",
   "metadata": {},
   "outputs": [],
   "source": [
    "from sklearn.metrics.pairwise import cosine_similarity"
   ]
  },
  {
   "cell_type": "code",
   "execution_count": 19,
   "id": "e0e22efc",
   "metadata": {},
   "outputs": [],
   "source": [
    "similarity=cosine_similarity(vector)"
   ]
  },
  {
   "cell_type": "code",
   "execution_count": 20,
   "id": "fe33740d",
   "metadata": {},
   "outputs": [
    {
     "data": {
      "text/plain": [
       "array([[1., 0., 0., ..., 0., 0., 1.],\n",
       "       [0., 1., 0., ..., 0., 0., 0.],\n",
       "       [0., 0., 1., ..., 0., 0., 0.],\n",
       "       ...,\n",
       "       [0., 0., 0., ..., 1., 0., 0.],\n",
       "       [0., 0., 0., ..., 0., 1., 0.],\n",
       "       [1., 0., 0., ..., 0., 0., 1.]])"
      ]
     },
     "execution_count": 20,
     "metadata": {},
     "output_type": "execute_result"
    }
   ],
   "source": [
    "similarity"
   ]
  },
  {
   "cell_type": "code",
   "execution_count": 21,
   "id": "54467be0",
   "metadata": {},
   "outputs": [],
   "source": [
    "def recommend_name(foode):\n",
    "    index=food[food['Best Indian Food Item']==foode].index[0]\n",
    "    distances=sorted(list(enumerate(similarity[index])),reverse=True, key= lambda x:x[1])\n",
    "    \n",
    "    \n",
    "    for i in distances[0:1]:\n",
    "        print(food['Restaurant Name'][i[0]])\n",
    "        print(food['Location'][i[0]])\n",
    "        print(food['Link'][i[0]])\n",
    "\n",
    "\n",
    "        \n",
    "        "
   ]
  },
  {
   "cell_type": "code",
   "execution_count": 26,
   "id": "f6a77f4e",
   "metadata": {},
   "outputs": [
    {
     "name": "stdout",
     "output_type": "stream",
     "text": [
      "Agarwal Kadi kachori\n",
      "Sardarpura\n",
      "https://goo.gl/maps/jGCJcHTEKyqAgeWQA\n",
      "None\n"
     ]
    }
   ],
   "source": [
    "temp= recommend_name(\"Kachori\")\n",
    "print(temp)\n"
   ]
  },
  {
   "cell_type": "code",
   "execution_count": 24,
   "id": "db1a4793",
   "metadata": {},
   "outputs": [
    {
     "ename": "FileNotFoundError",
     "evalue": "[Errno 2] No such file or directory: 'C:\\\\Users\\\\rkk\\\\Downloads\\\\cafe_list.pkl'",
     "output_type": "error",
     "traceback": [
      "\u001b[1;31m---------------------------------------------------------------------------\u001b[0m",
      "\u001b[1;31mFileNotFoundError\u001b[0m                         Traceback (most recent call last)",
      "Cell \u001b[1;32mIn[24], line 2\u001b[0m\n\u001b[0;32m      1\u001b[0m \u001b[39mimport\u001b[39;00m \u001b[39mpickle\u001b[39;00m\n\u001b[1;32m----> 2\u001b[0m pickle\u001b[39m.\u001b[39mdump(vector,\u001b[39mopen\u001b[39;49m(\u001b[39mr\u001b[39;49m\u001b[39m\"\u001b[39;49m\u001b[39mC:\u001b[39;49m\u001b[39m\\\u001b[39;49m\u001b[39mUsers\u001b[39;49m\u001b[39m\\\u001b[39;49m\u001b[39mrkk\u001b[39;49m\u001b[39m\\\u001b[39;49m\u001b[39mDownloads\u001b[39;49m\u001b[39m\\\u001b[39;49m\u001b[39mcafe_list.pkl\u001b[39;49m\u001b[39m\"\u001b[39;49m,\u001b[39m'\u001b[39;49m\u001b[39mwb\u001b[39;49m\u001b[39m'\u001b[39;49m))\n",
      "File \u001b[1;32mc:\\Users\\Ram Lal\\Desktop\\FindYourCafe\\.venv\\Lib\\site-packages\\IPython\\core\\interactiveshell.py:284\u001b[0m, in \u001b[0;36m_modified_open\u001b[1;34m(file, *args, **kwargs)\u001b[0m\n\u001b[0;32m    277\u001b[0m \u001b[39mif\u001b[39;00m file \u001b[39min\u001b[39;00m {\u001b[39m0\u001b[39m, \u001b[39m1\u001b[39m, \u001b[39m2\u001b[39m}:\n\u001b[0;32m    278\u001b[0m     \u001b[39mraise\u001b[39;00m \u001b[39mValueError\u001b[39;00m(\n\u001b[0;32m    279\u001b[0m         \u001b[39mf\u001b[39m\u001b[39m\"\u001b[39m\u001b[39mIPython won\u001b[39m\u001b[39m'\u001b[39m\u001b[39mt let you open fd=\u001b[39m\u001b[39m{\u001b[39;00mfile\u001b[39m}\u001b[39;00m\u001b[39m by default \u001b[39m\u001b[39m\"\u001b[39m\n\u001b[0;32m    280\u001b[0m         \u001b[39m\"\u001b[39m\u001b[39mas it is likely to crash IPython. If you know what you are doing, \u001b[39m\u001b[39m\"\u001b[39m\n\u001b[0;32m    281\u001b[0m         \u001b[39m\"\u001b[39m\u001b[39myou can use builtins\u001b[39m\u001b[39m'\u001b[39m\u001b[39m open.\u001b[39m\u001b[39m\"\u001b[39m\n\u001b[0;32m    282\u001b[0m     )\n\u001b[1;32m--> 284\u001b[0m \u001b[39mreturn\u001b[39;00m io_open(file, \u001b[39m*\u001b[39;49margs, \u001b[39m*\u001b[39;49m\u001b[39m*\u001b[39;49mkwargs)\n",
      "\u001b[1;31mFileNotFoundError\u001b[0m: [Errno 2] No such file or directory: 'C:\\\\Users\\\\rkk\\\\Downloads\\\\cafe_list.pkl'"
     ]
    }
   ],
   "source": [
    "import pickle\n",
    "pickle.dump(food,open(r\"C:\\Users\\rkk\\Downloads\\cafe_list.pkl\",'wb'))"
   ]
  },
  {
   "cell_type": "code",
   "execution_count": null,
   "id": "606f5bf3",
   "metadata": {},
   "outputs": [],
   "source": [
    "pickle.dump(similarity,open(r\"C:\\Users\\rkk\\Downloads\\similarity.pkl\",'wb'))"
   ]
  },
  {
   "cell_type": "code",
   "execution_count": null,
   "id": "aabb44c4",
   "metadata": {},
   "outputs": [],
   "source": []
  }
 ],
 "metadata": {
  "kernelspec": {
   "display_name": "Python 3 (ipykernel)",
   "language": "python",
   "name": "python3"
  },
  "language_info": {
   "codemirror_mode": {
    "name": "ipython",
    "version": 3
   },
   "file_extension": ".py",
   "mimetype": "text/x-python",
   "name": "python",
   "nbconvert_exporter": "python",
   "pygments_lexer": "ipython3",
   "version": "3.11.3"
  }
 },
 "nbformat": 4,
 "nbformat_minor": 5
}
